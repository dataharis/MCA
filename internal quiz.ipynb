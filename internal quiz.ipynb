{
 "cells": [
  {
   "cell_type": "markdown",
   "id": "7397b0cd",
   "metadata": {},
   "source": [
    "# **PCS**\n",
    "\n",
    "https://chatgpt.com/share/688f90e6-13d0-8003-992a-7b5bf5263c18"
   ]
  },
  {
   "cell_type": "markdown",
   "id": "e9997b7d",
   "metadata": {},
   "source": [
    "# **CN & C**\n",
    "\n",
    "https://chatgpt.com/share/6892415c-43c4-8003-8034-ab6c5677a0da"
   ]
  },
  {
   "cell_type": "markdown",
   "id": "83f977b1",
   "metadata": {},
   "source": [
    "# **DBMS**\n",
    "\n",
    "https://chatgpt.com/share/68941478-369c-8003-9753-cb17a1ec2037"
   ]
  },
  {
   "cell_type": "markdown",
   "id": "2068f61b",
   "metadata": {},
   "source": [
    "# **OS**\n",
    "\n",
    "https://chatgpt.com/share/68941957-345c-8003-b93c-18eb9e8b1c0c"
   ]
  },
  {
   "cell_type": "markdown",
   "id": "702a1989",
   "metadata": {},
   "source": [
    "# **DSA**\n",
    "\n",
    "https://chatgpt.com/share/68941dd2-faf0-8003-b4a4-cbf8aabd3506\n",
    "\n"
   ]
  }
 ],
 "metadata": {
  "kernelspec": {
   "display_name": "Python 3",
   "language": "python",
   "name": "python3"
  },
  "language_info": {
   "name": "python",
   "version": "3.13.2"
  }
 },
 "nbformat": 4,
 "nbformat_minor": 5
}
