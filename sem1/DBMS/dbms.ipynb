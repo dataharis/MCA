{
 "cells": [
  {
   "cell_type": "markdown",
   "id": "d9fd1a19",
   "metadata": {},
   "source": [
    "Evolution of dbms :-\n",
    "1. file system\n",
    "2. relational dbms\n",
    "3. NoSql\n",
    "\n",
    "Oracle ,sql , Postgre Sql , sql server , "
   ]
  }
 ],
 "metadata": {
  "language_info": {
   "name": "python"
  }
 },
 "nbformat": 4,
 "nbformat_minor": 5
}
